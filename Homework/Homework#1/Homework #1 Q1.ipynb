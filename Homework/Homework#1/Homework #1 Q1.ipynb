{
 "cells": [
  {
   "cell_type": "code",
   "execution_count": 2,
   "metadata": {},
   "outputs": [],
   "source": [
    "import numpy as np\n",
    "import matplotlib.pylab as plt"
   ]
  },
  {
   "cell_type": "code",
   "execution_count": 3,
   "metadata": {},
   "outputs": [],
   "source": [
    "#C\n",
    "#Create numpy Matrix\n",
    "A=np.array([[0,0,0,0,0,0,0,0,1,0],\n",
    "           [0,0,1,0,1,0,0,0,0,0],\n",
    "           [0,1,0,1,0,1,0,0,0,0],\n",
    "           [0,0,1,0,0,0,1,0,0,0],\n",
    "           [0,1,0,0,0,1,0,1,0,0],\n",
    "           [0,0,1,0,1,0,1,0,1,0],\n",
    "           [0,0,0,1,0,1,0,0,0,1],\n",
    "           [0,0,0,0,1,0,0,0,1,0],\n",
    "           [1,0,0,0,0,1,0,1,0,1],\n",
    "           [0,0,0,0,0,0,1,0,1,0]])"
   ]
  },
  {
   "cell_type": "code",
   "execution_count": 3,
   "metadata": {},
   "outputs": [
    {
     "data": {
      "text/plain": [
       "array([[0, 0, 0, 0, 0, 0, 0, 0, 1, 0],\n",
       "       [0, 0, 1, 0, 1, 0, 0, 0, 0, 0],\n",
       "       [0, 1, 0, 1, 0, 1, 0, 0, 0, 0],\n",
       "       [0, 0, 1, 0, 0, 0, 1, 0, 0, 0],\n",
       "       [0, 1, 0, 0, 0, 1, 0, 1, 0, 0],\n",
       "       [0, 0, 1, 0, 1, 0, 1, 0, 1, 0],\n",
       "       [0, 0, 0, 1, 0, 1, 0, 0, 0, 1],\n",
       "       [0, 0, 0, 0, 1, 0, 0, 0, 1, 0],\n",
       "       [1, 0, 0, 0, 0, 1, 0, 1, 0, 1],\n",
       "       [0, 0, 0, 0, 0, 0, 1, 0, 1, 0]])"
      ]
     },
     "execution_count": 3,
     "metadata": {},
     "output_type": "execute_result"
    }
   ],
   "source": [
    "A"
   ]
  },
  {
   "cell_type": "code",
   "execution_count": 4,
   "metadata": {},
   "outputs": [],
   "source": [
    "B=np.transpose(A)"
   ]
  },
  {
   "cell_type": "code",
   "execution_count": 5,
   "metadata": {},
   "outputs": [
    {
     "data": {
      "text/plain": [
       "array([[ True,  True,  True,  True,  True,  True,  True,  True,  True,\n",
       "         True],\n",
       "       [ True,  True,  True,  True,  True,  True,  True,  True,  True,\n",
       "         True],\n",
       "       [ True,  True,  True,  True,  True,  True,  True,  True,  True,\n",
       "         True],\n",
       "       [ True,  True,  True,  True,  True,  True,  True,  True,  True,\n",
       "         True],\n",
       "       [ True,  True,  True,  True,  True,  True,  True,  True,  True,\n",
       "         True],\n",
       "       [ True,  True,  True,  True,  True,  True,  True,  True,  True,\n",
       "         True],\n",
       "       [ True,  True,  True,  True,  True,  True,  True,  True,  True,\n",
       "         True],\n",
       "       [ True,  True,  True,  True,  True,  True,  True,  True,  True,\n",
       "         True],\n",
       "       [ True,  True,  True,  True,  True,  True,  True,  True,  True,\n",
       "         True],\n",
       "       [ True,  True,  True,  True,  True,  True,  True,  True,  True,\n",
       "         True]])"
      ]
     },
     "execution_count": 5,
     "metadata": {},
     "output_type": "execute_result"
    }
   ],
   "source": [
    "A==B"
   ]
  },
  {
   "cell_type": "code",
   "execution_count": 6,
   "metadata": {},
   "outputs": [],
   "source": [
    "#D\n",
    "A=np.matrix(A)\n",
    "B=np.ones(10)\n",
    "B=np.matrix(B)\n",
    "B=B.T\n",
    "    "
   ]
  },
  {
   "cell_type": "code",
   "execution_count": 7,
   "metadata": {},
   "outputs": [],
   "source": [
    "def Dialer_Problem (S,N):\n",
    "    if S not in range (0,10):\n",
    "        print (\"Number is not in the dial pad\")\n",
    "    elif N<1:\n",
    "        print (\"Input error\")\n",
    "    elif N==1:\n",
    "        return 1\n",
    "    else:\n",
    "        C=A*B\n",
    "        for i in range (N-2):\n",
    "            C=A*C\n",
    "        return (C[S].tolist())"
   ]
  },
  {
   "cell_type": "code",
   "execution_count": 8,
   "metadata": {},
   "outputs": [
    {
     "data": {
      "text/plain": [
       "[[18713.0]]"
      ]
     },
     "execution_count": 8,
     "metadata": {},
     "output_type": "execute_result"
    }
   ],
   "source": [
    "Dialer_Problem(5,10)"
   ]
  },
  {
   "cell_type": "code",
   "execution_count": 9,
   "metadata": {},
   "outputs": [],
   "source": [
    "C=[[0,0,0,0,0,0,0,0,1,0],\n",
    "   [0,0,1,0,1,0,0,0,0,0],\n",
    "   [0,1,0,1,0,1,0,0,0,0],\n",
    "   [0,0,1,0,0,0,1,0,0,0],\n",
    "   [0,1,0,0,0,1,0,1,0,0],\n",
    "   [0,0,1,0,1,0,1,0,1,0],\n",
    "   [0,0,0,1,0,1,0,0,0,1],\n",
    "   [0,0,0,0,1,0,0,0,1,0],\n",
    "   [1,0,0,0,0,1,0,1,0,1],\n",
    "   [0,0,0,0,0,0,1,0,1,0]]\n",
    "D=[1,1,1,1,1,1,1,1,1,1]"
   ]
  },
  {
   "cell_type": "code",
   "execution_count": 10,
   "metadata": {},
   "outputs": [],
   "source": [
    "#E\n",
    "def MatrixMulti (A,B):\n",
    "    if len(A[0])==len(B):\n",
    "        R=[[sum(x*y for x,y in zip(A_row,B_col)) for B_col in zip(*B)] for A_row in A]\n",
    "        return R\n",
    "    else:\n",
    "        print(\"Demension error\")"
   ]
  },
  {
   "cell_type": "code",
   "execution_count": 11,
   "metadata": {},
   "outputs": [],
   "source": [
    "D=list(zip(D))"
   ]
  },
  {
   "cell_type": "code",
   "execution_count": 12,
   "metadata": {},
   "outputs": [],
   "source": [
    "def Dialer_Problem2 (S,N):\n",
    "    if S not in range (0,10):\n",
    "        print (\"Number is not in the dial pad\")\n",
    "    elif N<1:\n",
    "        print (\"Input error\")\n",
    "    elif N==1:\n",
    "        return 1\n",
    "    else:\n",
    "        F=MatrixMulti(C,D)\n",
    "        for i in range (N-2):\n",
    "            F=MatrixMulti(C,F)\n",
    "        return F[S]"
   ]
  },
  {
   "cell_type": "code",
   "execution_count": 13,
   "metadata": {},
   "outputs": [
    {
     "data": {
      "text/plain": [
       "[18713]"
      ]
     },
     "execution_count": 13,
     "metadata": {},
     "output_type": "execute_result"
    }
   ],
   "source": [
    "Dialer_Problem2(5,10)"
   ]
  },
  {
   "cell_type": "code",
   "execution_count": 14,
   "metadata": {},
   "outputs": [],
   "source": [
    "import time"
   ]
  },
  {
   "cell_type": "code",
   "execution_count": 94,
   "metadata": {},
   "outputs": [],
   "source": [
    "#F\n",
    "N=range(1,1000,1)\n",
    "BigO=[]\n",
    "for j in N:\n",
    "    for i in range(0,10,1):\n",
    "        t1=time.time()\n",
    "        Dialer_Problem(i,j)\n",
    "        t2=time.time()\n",
    "        timerun=(t2-t1)*1000\n",
    "        BigO.append(timerun)\n",
    "    \n",
    "    "
   ]
  },
  {
   "cell_type": "code",
   "execution_count": 95,
   "metadata": {},
   "outputs": [],
   "source": [
    "#Linear fit\n",
    "x_range=range(0,len(BigO))\n",
    "model=np.polyfit(x_range,BigO,1)\n",
    "predict=np.poly1d(model)\n",
    "y_predict=predict(x_range)"
   ]
  },
  {
   "cell_type": "code",
   "execution_count": 96,
   "metadata": {},
   "outputs": [
    {
     "data": {
      "text/plain": [
       "[<matplotlib.lines.Line2D at 0x1a0867aeb80>]"
      ]
     },
     "execution_count": 96,
     "metadata": {},
     "output_type": "execute_result"
    },
    {
     "data": {
      "image/png": "[encoded data removed]",
      "text/plain": [
       "<Figure size 576x576 with 1 Axes>"
      ]
     },
     "metadata": {
      "needs_background": "light"
     },
     "output_type": "display_data"
    }
   ],
   "source": [
    "#plot figure\n",
    "plt.figure(figsize=(8,8))\n",
    "plt.plot(BigO)\n",
    "plt.xlabel('N',fontsize=12)\n",
    "plt.ylabel('Execution Time (ms)', fontsize=12)\n",
    "plt.plot(x_range,y_predict,c='red')"
   ]
  },
  {
   "cell_type": "code",
   "execution_count": 97,
   "metadata": {},
   "outputs": [
    {
     "data": {
      "text/plain": [
       "7308.309024259819"
      ]
     },
     "execution_count": 97,
     "metadata": {},
     "output_type": "execute_result"
    }
   ],
   "source": [
    "#g Use exxtrapolation to estiamte the running time in ms for N=10^7\n",
    "predict(10**7)"
   ]
  },
  {
   "cell_type": "code",
   "execution_count": 19,
   "metadata": {},
   "outputs": [],
   "source": [
    "#H\n",
    "def DecToBin (num):\n",
    "    \"\"\"\n",
    "    A Funtion change from a decimal number to binary system\n",
    "    \"\"\"\n",
    "    result=\"\"\n",
    "    while num>0:\n",
    "        if num%2==0:\n",
    "            result='0'+result\n",
    "        else:\n",
    "            result='1'+result\n",
    "        num=num//2\n",
    "        \n",
    "    return result\n",
    "        "
   ]
  },
  {
   "cell_type": "code",
   "execution_count": 40,
   "metadata": {},
   "outputs": [],
   "source": [
    "def Dialer_Problem_Bin (S,N):\n",
    "    \"\"\"\n",
    "    Rewrite the function in part d by implement binary system\n",
    "    \"\"\"\n",
    "    if S not in range (0,10):\n",
    "        print (\"Number is not in the dial pad\")\n",
    "    elif N<1:\n",
    "        print (\"Input error\")\n",
    "    elif N==1:\n",
    "        return 1\n",
    "    else:\n",
    "        Bin_lst=list(DecToBin(N-1))\n",
    "        Rev_Bin=Bin_lst[::-1]\n",
    "        C=B\n",
    "        for i in range(0,len(Bin_lst)):\n",
    "            index=(2**i)*int(Rev_Bin[i])\n",
    "            C=A**(index)*C\n",
    "        \n",
    "    \n",
    "    return (C[S].tolist())"
   ]
  },
  {
   "cell_type": "code",
   "execution_count": 41,
   "metadata": {},
   "outputs": [
    {
     "data": {
      "text/plain": [
       "[[18713.0]]"
      ]
     },
     "execution_count": 41,
     "metadata": {},
     "output_type": "execute_result"
    }
   ],
   "source": [
    "Dialer_Problem_Bin(5,10)"
   ]
  },
  {
   "cell_type": "code",
   "execution_count": 98,
   "metadata": {},
   "outputs": [],
   "source": [
    "N=range(1,1000,1)\n",
    "BigO_2=[]\n",
    "for j in N:\n",
    "    for i in range(0,10,1):\n",
    "        t3=time.time()\n",
    "        Dialer_Problem_Bin(i,j)\n",
    "        t4=time.time()\n",
    "        timerun2=(t4-t3)*1000\n",
    "        BigO_2.append(timerun2)"
   ]
  },
  {
   "cell_type": "code",
   "execution_count": 99,
   "metadata": {},
   "outputs": [
    {
     "data": {
      "text/plain": [
       "Text(0, 0.5, 'Execution Time (ms)')"
      ]
     },
     "execution_count": 99,
     "metadata": {},
     "output_type": "execute_result"
    },
    {
     "data": {
      "image/png": "[encoded data removed]",
      "text/plain": [
       "<Figure size 576x576 with 1 Axes>"
      ]
     },
     "metadata": {
      "needs_background": "light"
     },
     "output_type": "display_data"
    }
   ],
   "source": [
    "#plot figure\n",
    "plt.figure(figsize=(8,8))\n",
    "plt.plot(BigO_2)\n",
    "plt.xlabel('N',fontsize=12)\n",
    "plt.ylabel('Execution Time (ms)', fontsize=12)"
   ]
  },
  {
   "cell_type": "code",
   "execution_count": 110,
   "metadata": {},
   "outputs": [],
   "source": [
    "#Linear fit for binary\n",
    "x_range2=range(0,len(BigO_2))\n",
    "model2=np.polyfit(x_range2,BigO_2,1)\n",
    "predict2=np.poly1d(model2)\n",
    "y_predict2=predict(x_range2)"
   ]
  },
  {
   "cell_type": "code",
   "execution_count": 111,
   "metadata": {},
   "outputs": [
    {
     "data": {
      "text/plain": [
       "208.36833935657134"
      ]
     },
     "execution_count": 111,
     "metadata": {},
     "output_type": "execute_result"
    }
   ],
   "source": [
    "predict2(10**7)"
   ]
  },
  {
   "cell_type": "code",
   "execution_count": null,
   "metadata": {},
   "outputs": [],
   "source": []
  }
 ],
 "metadata": {
  "kernelspec": {
   "display_name": "PHYS247",
   "language": "python",
   "name": "phys247"
  },
  "language_info": {
   "codemirror_mode": {
    "name": "ipython",
    "version": 3
   },
   "file_extension": ".py",
   "mimetype": "text/x-python",
   "name": "python",
   "nbconvert_exporter": "python",
   "pygments_lexer": "ipython3",
   "version": "3.8.5"
  }
 },
 "nbformat": 4,
 "nbformat_minor": 4
}
