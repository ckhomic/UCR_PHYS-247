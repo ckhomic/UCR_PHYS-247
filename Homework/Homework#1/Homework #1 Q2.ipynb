{
 "cells": [
  {
   "cell_type": "code",
   "execution_count": null,
   "metadata": {},
   "outputs": [],
   "source": [
    "import numpy as np\n",
    "import matplotlib.pylab as plt"
   ]
  },
  {
   "cell_type": "code",
   "execution_count": 2,
   "metadata": {},
   "outputs": [],
   "source": [
    "#Create 10x2 NumPy array in D\n",
    "D=np.array([[1.72,0.1],\n",
    "            [-0.58,0.31],\n",
    "            [1.99,1.54],\n",
    "            [1.6,4.97],\n",
    "            [2.72,2.43],\n",
    "            [2.83,3.59],\n",
    "            [5.95,7.71],\n",
    "            [4.75,7.63],\n",
    "            [5.57,5.6],\n",
    "            [9.82,7.91]])"
   ]
  },
  {
   "cell_type": "code",
   "execution_count": 3,
   "metadata": {},
   "outputs": [
    {
     "data": {
      "text/plain": [
       "array([[ 1.72,  0.1 ],\n",
       "       [-0.58,  0.31],\n",
       "       [ 1.99,  1.54],\n",
       "       [ 1.6 ,  4.97],\n",
       "       [ 2.72,  2.43],\n",
       "       [ 2.83,  3.59],\n",
       "       [ 5.95,  7.71],\n",
       "       [ 4.75,  7.63],\n",
       "       [ 5.57,  5.6 ],\n",
       "       [ 9.82,  7.91]])"
      ]
     },
     "execution_count": 3,
     "metadata": {},
     "output_type": "execute_result"
    }
   ],
   "source": [
    "D"
   ]
  },
  {
   "cell_type": "code",
   "execution_count": 4,
   "metadata": {},
   "outputs": [
    {
     "data": {
      "text/plain": [
       "array([[8.70742333, 7.41923   ],\n",
       "       [7.41923   , 9.21336556]])"
      ]
     },
     "execution_count": 4,
     "metadata": {},
     "output_type": "execute_result"
    }
   ],
   "source": [
    "#Convariance matrix of D\n",
    "ConvMatD=np.cov(D.T)\n",
    "ConvMatD"
   ]
  },
  {
   "cell_type": "code",
   "execution_count": 5,
   "metadata": {},
   "outputs": [
    {
     "data": {
      "text/plain": [
       "(array([ 1.53685296, 16.38393593]),\n",
       " array([[-0.71905385, -0.69495436],\n",
       "        [ 0.69495436, -0.71905385]]))"
      ]
     },
     "execution_count": 5,
     "metadata": {},
     "output_type": "execute_result"
    }
   ],
   "source": [
    "#F is eigenvalues and G is the corresponding eigenvectors\n",
    "F=np.linalg.eig(ConvMatD)\n",
    "F"
   ]
  },
  {
   "cell_type": "code",
   "execution_count": 6,
   "metadata": {},
   "outputs": [
    {
     "data": {
      "text/plain": [
       "array([-0.69495436, -0.71905385])"
      ]
     },
     "execution_count": 6,
     "metadata": {},
     "output_type": "execute_result"
    }
   ],
   "source": [
    "v=F[1].T[1]\n",
    "v"
   ]
  },
  {
   "cell_type": "code",
   "execution_count": 7,
   "metadata": {},
   "outputs": [
    {
     "data": {
      "text/plain": [
       "array([ -1.26722688,   0.18016683,  -2.4903021 ,  -4.68562461,\n",
       "        -3.63757671,  -4.54812416,  -9.67888362,  -8.78741408,\n",
       "        -7.89759734, -12.51216776])"
      ]
     },
     "execution_count": 7,
     "metadata": {},
     "output_type": "execute_result"
    }
   ],
   "source": [
    "result=np.dot(D,v)\n",
    "result"
   ]
  },
  {
   "cell_type": "code",
   "execution_count": null,
   "metadata": {},
   "outputs": [],
   "source": []
  }
 ],
 "metadata": {
  "kernelspec": {
   "display_name": "PHYS247",
   "language": "python",
   "name": "phys247"
  },
  "language_info": {
   "codemirror_mode": {
    "name": "ipython",
    "version": 3
   },
   "file_extension": ".py",
   "mimetype": "text/x-python",
   "name": "python",
   "nbconvert_exporter": "python",
   "pygments_lexer": "ipython3",
   "version": "3.8.5"
  }
 },
 "nbformat": 4,
 "nbformat_minor": 4
}
